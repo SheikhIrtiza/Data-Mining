{
  "nbformat": 4,
  "nbformat_minor": 0,
  "metadata": {
    "colab": {
      "provenance": []
    },
    "kernelspec": {
      "name": "python3",
      "display_name": "Python 3"
    },
    "language_info": {
      "name": "python"
    }
  },
  "cells": [
    {
      "cell_type": "markdown",
      "source": [
        "**Step 1: Import packages and classes**"
      ],
      "metadata": {
        "id": "B9Vn9bBblo72"
      }
    },
    {
      "cell_type": "code",
      "source": [
        "import numpy as np\n",
        "from sklearn.linear_model import LinearRegression"
      ],
      "metadata": {
        "id": "j69xeiHAlvhU"
      },
      "execution_count": 1,
      "outputs": []
    },
    {
      "cell_type": "markdown",
      "source": [
        "Variables\n",
        "      \n",
        "      1.Independent\n",
        "      2.Dependent"
      ],
      "metadata": {
        "id": "DmWvBrFsmByN"
      }
    },
    {
      "cell_type": "code",
      "source": [
        "x = np.array([25, 35, 45, 55, 65, 75])\n",
        "y = np.array([5, 20, 14, 32, 22, 38])"
      ],
      "metadata": {
        "id": "vbG1qbEqmIeT"
      },
      "execution_count": 5,
      "outputs": []
    },
    {
      "cell_type": "code",
      "source": [
        "print(x)\n",
        "print(y)"
      ],
      "metadata": {
        "colab": {
          "base_uri": "https://localhost:8080/"
        },
        "id": "XiYeXzCanEZH",
        "outputId": "59ff3ce8-3346-47a1-a220-3a7535a3a7a9"
      },
      "execution_count": 6,
      "outputs": [
        {
          "output_type": "stream",
          "name": "stdout",
          "text": [
            "[25 35 45 55 65 75]\n",
            "[ 5 20 14 32 22 38]\n"
          ]
        }
      ]
    },
    {
      "cell_type": "markdown",
      "source": [
        "1.The input x and output y.\n",
        "\n",
        "2.reshape() on x because this array is required to be two dimensional, or to be more precise, to have one column and as many rows as necessary"
      ],
      "metadata": {
        "id": "R673DZbJv_gD"
      }
    },
    {
      "cell_type": "code",
      "source": [
        "x=x.reshape((-1, 1))"
      ],
      "metadata": {
        "id": "yEf1z802nHnx"
      },
      "execution_count": 8,
      "outputs": []
    },
    {
      "cell_type": "code",
      "source": [
        "print(x)\n",
        "x.shape"
      ],
      "metadata": {
        "colab": {
          "base_uri": "https://localhost:8080/"
        },
        "id": "3rb99uA_wqEk",
        "outputId": "a8d1cdec-5d6c-4c59-b635-fcb041c0bff7"
      },
      "execution_count": 9,
      "outputs": [
        {
          "output_type": "stream",
          "name": "stdout",
          "text": [
            "[[25]\n",
            " [35]\n",
            " [45]\n",
            " [55]\n",
            " [65]\n",
            " [75]]\n"
          ]
        },
        {
          "output_type": "execute_result",
          "data": {
            "text/plain": [
              "(6, 1)"
            ]
          },
          "metadata": {},
          "execution_count": 9
        }
      ]
    },
    {
      "cell_type": "markdown",
      "source": [
        "**Create a model and fit it**"
      ],
      "metadata": {
        "id": "9ck1HKRgxH3l"
      }
    },
    {
      "cell_type": "code",
      "source": [
        "model = LinearRegression()"
      ],
      "metadata": {
        "id": "GUATtCBNxNIy"
      },
      "execution_count": 16,
      "outputs": []
    },
    {
      "cell_type": "code",
      "source": [
        "model.fit(x, y)"
      ],
      "metadata": {
        "colab": {
          "base_uri": "https://localhost:8080/"
        },
        "id": "jbo10XbGxUEW",
        "outputId": "9a9d8f03-6a6b-471b-cd14-0775d0e1c878"
      },
      "execution_count": 17,
      "outputs": [
        {
          "output_type": "execute_result",
          "data": {
            "text/plain": [
              "LinearRegression()"
            ]
          },
          "metadata": {},
          "execution_count": 17
        }
      ]
    },
    {
      "cell_type": "markdown",
      "source": [
        "Once you have your model titled , you can get the results to checkk whther the model works satisfactory and interpret it."
      ],
      "metadata": {
        "id": "2YOwUP4PyNI6"
      }
    },
    {
      "cell_type": "code",
      "source": [
        "r_sq_score = model.score(x, y)\n",
        "print('cofficient of determination:', r_sq_score)"
      ],
      "metadata": {
        "colab": {
          "base_uri": "https://localhost:8080/"
        },
        "id": "Xr4iTrZNxXeK",
        "outputId": "82878a24-7461-4e79-bd3f-c8b8080bbf9b"
      },
      "execution_count": 20,
      "outputs": [
        {
          "output_type": "stream",
          "name": "stdout",
          "text": [
            "cofficient of determination: 0.7158756137479542\n"
          ]
        }
      ]
    },
    {
      "cell_type": "code",
      "source": [
        "print('intercept:', model.intercept_)"
      ],
      "metadata": {
        "colab": {
          "base_uri": "https://localhost:8080/"
        },
        "id": "_4dNx9lAydZH",
        "outputId": "d733d24c-b5e1-40e5-9789-ec0188d57bb0"
      },
      "execution_count": 22,
      "outputs": [
        {
          "output_type": "stream",
          "name": "stdout",
          "text": [
            "intercept: -5.166666666666668\n"
          ]
        }
      ]
    },
    {
      "cell_type": "code",
      "source": [
        "print('slope:', model.coef_)"
      ],
      "metadata": {
        "colab": {
          "base_uri": "https://localhost:8080/"
        },
        "id": "uzvsXpjiyqRm",
        "outputId": "73a078cd-5267-4255-eb4c-41f7735469e8"
      },
      "execution_count": 23,
      "outputs": [
        {
          "output_type": "stream",
          "name": "stdout",
          "text": [
            "slope: [0.54]\n"
          ]
        }
      ]
    },
    {
      "cell_type": "code",
      "source": [
        "y_pred = model.predict(x)"
      ],
      "metadata": {
        "id": "tdKSmAj-y1zR"
      },
      "execution_count": 24,
      "outputs": []
    },
    {
      "cell_type": "code",
      "source": [
        "print(\"actual values\",y)\n",
        "print('predicted response:', y_pred)"
      ],
      "metadata": {
        "colab": {
          "base_uri": "https://localhost:8080/"
        },
        "id": "AN2u34zNy7nL",
        "outputId": "e0430689-a174-4308-a104-1bb9d58295e1"
      },
      "execution_count": 25,
      "outputs": [
        {
          "output_type": "stream",
          "name": "stdout",
          "text": [
            "actual values [ 5 20 14 32 22 38]\n",
            "predicted response: [ 8.33333333 13.73333333 19.13333333 24.53333333 29.93333333 35.33333333]\n"
          ]
        }
      ]
    },
    {
      "cell_type": "code",
      "source": [],
      "metadata": {
        "id": "hFrfugERzevr"
      },
      "execution_count": null,
      "outputs": [] 
    }
  ]
}
