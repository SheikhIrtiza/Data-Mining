{
  "nbformat": 4,
  "nbformat_minor": 0,
  "metadata": {
    "colab": {
      "provenance": []
    },
    "kernelspec": {
      "name": "python3",
      "display_name": "Python 3"
    },
    "language_info": {
      "name": "python"
    }
  },
  "cells": [
    {
      "cell_type": "code",
      "execution_count": null,
      "metadata": {
        "id": "u5D2odUFU0Zg"
      },
      "outputs": [],
      "source": []
    },
    {
      "cell_type": "markdown",
      "source": [
        "Step 1: Import packages and classes"
      ],
      "metadata": {
        "id": "ach4jVNpU-CW"
      }
    },
    {
      "cell_type": "code",
      "source": [
        "import numpy as np\n",
        "from sklearn.linear_model import LinearRegression"
      ],
      "metadata": {
        "id": "TLIHkp_5VDVh"
      },
      "execution_count": 1,
      "outputs": []
    },
    {
      "cell_type": "code",
      "source": [
        "x = [[10, 21], [5, 18], [15, 24], [25, 56], [35, 11], [55, 15], [55, 34], [90, 35]]\n",
        "y = [4, 14, 15, 20, 14, 32, 22, 38]#Declaring list of list"
      ],
      "metadata": {
        "id": "Cwi6bZg8VMJm"
      },
      "execution_count": 4,
      "outputs": []
    },
    {
      "cell_type": "code",
      "source": [
        "print(x)\n",
        "print(y)\n",
        "print(type(x))\n",
        "print(type(y))"
      ],
      "metadata": {
        "colab": {
          "base_uri": "https://localhost:8080/"
        },
        "id": "NvcqtcjYVmJM",
        "outputId": "3368a9fb-11df-4df1-9599-7733ee6c9652"
      },
      "execution_count": 7,
      "outputs": [
        {
          "output_type": "stream",
          "name": "stdout",
          "text": [
            "[[10, 21], [5, 18], [15, 24], [25, 56], [35, 11], [55, 15], [55, 34], [90, 35]]\n",
            "[4, 14, 15, 20, 14, 32, 22, 38]\n",
            "<class 'list'>\n",
            "<class 'list'>\n"
          ]
        }
      ]
    },
    {
      "cell_type": "markdown",
      "source": [
        "In MLR, x is a 2D array with atleast two columns, while y is usually a 1D ARRAY. This is a simple eg. of MLR, and x has exactly two columns"
      ],
      "metadata": {
        "id": "nv8veXw9Y7qM"
      }
    },
    {
      "cell_type": "code",
      "source": [
        "x, y = np.array(x), np.array(y)"
      ],
      "metadata": {
        "id": "0CyqGwZsWAqx"
      },
      "execution_count": 8,
      "outputs": []
    },
    {
      "cell_type": "code",
      "source": [
        "print(x)\n",
        "print(y) #converted into array"
      ],
      "metadata": {
        "colab": {
          "base_uri": "https://localhost:8080/"
        },
        "id": "ahVwZWXYWUxv",
        "outputId": "4f9d3cd0-acc1-4d7c-bac8-11b81cf0b4de"
      },
      "execution_count": 9,
      "outputs": [
        {
          "output_type": "stream",
          "name": "stdout",
          "text": [
            "[[10 21]\n",
            " [ 5 18]\n",
            " [15 24]\n",
            " [25 56]\n",
            " [35 11]\n",
            " [55 15]\n",
            " [55 34]\n",
            " [90 35]]\n",
            "[ 4 14 15 20 14 32 22 38]\n"
          ]
        }
      ]
    },
    {
      "cell_type": "code",
      "source": [],
      "metadata": {
        "id": "fTzH871PWYEu"
      },
      "execution_count": null,
      "outputs": []
    },
    {
      "cell_type": "markdown",
      "source": [
        "Step 2: Create a model and fit it"
      ],
      "metadata": {
        "id": "lVxq6CatWlns"
      }
    },
    {
      "cell_type": "code",
      "source": [
        "model = LinearRegression() #Here we call the algorithm i.e. linear regression from sklearn"
      ],
      "metadata": {
        "id": "6WLffec0WudC"
      },
      "execution_count": 21,
      "outputs": []
    },
    {
      "cell_type": "code",
      "source": [
        "model.fit(x,y)#data has been given to model for training and model to get trained"
      ],
      "metadata": {
        "colab": {
          "base_uri": "https://localhost:8080/"
        },
        "id": "-wXwt7TWW0t0",
        "outputId": "705949d2-4eeb-4e8e-da5e-902f9cb657b8"
      },
      "execution_count": 14,
      "outputs": [
        {
          "output_type": "execute_result",
          "data": {
            "text/plain": [
              "LinearRegression()"
            ]
          },
          "metadata": {},
          "execution_count": 14
        }
      ]
    },
    {
      "cell_type": "code",
      "source": [],
      "metadata": {
        "id": "Xo_YscX2W3m_"
      },
      "execution_count": null,
      "outputs": []
    },
    {
      "cell_type": "markdown",
      "source": [
        "Step 3: Get results"
      ],
      "metadata": {
        "id": "CJTP6KtZXC2u"
      }
    },
    {
      "cell_type": "code",
      "source": [
        "r_square = model.score(x, y)#in output it shows model is working with alsmost 79% accuracy\n",
        "print('cofficient of determination:', r_square)"
      ],
      "metadata": {
        "colab": {
          "base_uri": "https://localhost:8080/"
        },
        "id": "jb2VFBPaXGbR",
        "outputId": "af6f2c86-0e94-4d48-808d-623c5adde48b"
      },
      "execution_count": 16,
      "outputs": [
        {
          "output_type": "stream",
          "name": "stdout",
          "text": [
            "cofficient of determination: 0.7986296843961266\n"
          ]
        }
      ]
    },
    {
      "cell_type": "code",
      "source": [
        "print('intercept:', model.intercept_)"
      ],
      "metadata": {
        "colab": {
          "base_uri": "https://localhost:8080/"
        },
        "id": "eX3yBYJ4XMan",
        "outputId": "7d55da22-74fa-4c27-a11a-d68ce1610db5"
      },
      "execution_count": 17,
      "outputs": [
        {
          "output_type": "stream",
          "name": "stdout",
          "text": [
            "intercept: 6.172850554140558\n"
          ]
        }
      ]
    },
    {
      "cell_type": "code",
      "source": [
        "print('slope:', model.coef_)"
      ],
      "metadata": {
        "colab": {
          "base_uri": "https://localhost:8080/"
        },
        "id": "oHnHD3wnXcdL",
        "outputId": "cc2094dd-c4b1-4526-8229-d440ce4d9c0d"
      },
      "execution_count": 18,
      "outputs": [
        {
          "output_type": "stream",
          "name": "stdout",
          "text": [
            "slope: [0.32809312 0.06761772]\n"
          ]
        }
      ]
    },
    {
      "cell_type": "code",
      "source": [],
      "metadata": {
        "id": "Ph4hPCQlXooM"
      },
      "execution_count": null,
      "outputs": []
    },
    {
      "cell_type": "markdown",
      "source": [
        "Step 4: Predict Response"
      ],
      "metadata": {
        "id": "nVlMj15XXqLN"
      }
    },
    {
      "cell_type": "code",
      "source": [
        "y_pred = model.predict(x)\n",
        "print('predicted response:', y_pred, sep='\\n')"
      ],
      "metadata": {
        "colab": {
          "base_uri": "https://localhost:8080/"
        },
        "id": "r-oyapP1XvIe",
        "outputId": "90ccead8-bc01-4394-c127-67186b54b482"
      },
      "execution_count": 19,
      "outputs": [
        {
          "output_type": "stream",
          "name": "stdout",
          "text": [
            "predicted response:\n",
            "[10.87375382  9.03043508 12.71707256 18.16177074 18.39990453 25.23223772\n",
            " 26.51697439 38.06785117]\n"
          ]
        }
      ]
    },
    {
      "cell_type": "code",
      "source": [
        "print(\"actual value\",y)\n",
        "print(\"predicted value\", y_pred) #Here in its output some actual values not all are very near to predicted values i.e y accuracy was 79. something"
      ],
      "metadata": {
        "colab": {
          "base_uri": "https://localhost:8080/"
        },
        "id": "4-4VuK9oYBvN",
        "outputId": "9777aa12-da31-41d3-beec-830f8fd053e0"
      },
      "execution_count": 22,
      "outputs": [
        {
          "output_type": "stream",
          "name": "stdout",
          "text": [
            "actual value [ 4 14 15 20 14 32 22 38]\n",
            "predicted value [10.87375382  9.03043508 12.71707256 18.16177074 18.39990453 25.23223772\n",
            " 26.51697439 38.06785117]\n"
          ]
        }
      ]
    },
    {
      "cell_type": "code",
      "source": [],
      "metadata": {
        "id": "x-5nS0BYYUyI"
      },
      "execution_count": null,
      "outputs": []
    } 
  ]
} 
